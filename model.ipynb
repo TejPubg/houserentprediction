{
 "cells": [
  {
   "cell_type": "code",
   "execution_count": 8,
   "metadata": {},
   "outputs": [],
   "source": [
    "import pandas as pd\n",
    "import numpy as np\n",
    "from sklearn.model_selection import train_test_split\n",
    "from keras.models import Sequential\n",
    "from keras.layers import Dense, LSTM\n",
    "import warnings"
   ]
  },
  {
   "cell_type": "code",
   "execution_count": 9,
   "metadata": {},
   "outputs": [],
   "source": [
    "warnings.filterwarnings(\"ignore\")\n",
    "\n",
    "data = pd.read_csv(\"./dataset/House_Rent_Data.csv\")"
   ]
  },
  {
   "cell_type": "code",
   "execution_count": 10,
   "metadata": {},
   "outputs": [],
   "source": [
    "data[\"Area Type\"] = data[\"Area Type\"].map({\"Super Area\": 1, \"Carpet Area\": 2, \"Built Area\": 3})\n",
    "data[\"City\"] = data[\"City\"].map({\"Mumbai\": 4000, \"Chennai\": 6000, \"Bangalore\": 5600, \"Hyderabad\": 5000, \"Delhi\": 1100, \"Kolkata\": 7000})\n",
    "data[\"Furnishing Status\"] = data[\"Furnishing Status\"].map({\"Unfurnished\": 0, \"Semi-Furnished\": 1, \"Furnished\": 2})\n",
    "data[\"Tenant Preferred\"] = data[\"Tenant Preferred\"].map({\"Bachelors/Family\": 2, \"Bachelors\": 1, \"Family\": 3})"
   ]
  },
  {
   "cell_type": "code",
   "execution_count": 11,
   "metadata": {},
   "outputs": [],
   "source": [
    "from sklearn.model_selection import train_test_split\n",
    "x = np.array(data[[\"BHK\", \"Size\", \"Area Type\", \"City\", \"Furnishing Status\", \"Tenant Preferred\", \"Bathroom\"]])\n",
    "y = np.array(data[[\"Rent\"]])\n",
    "\n",
    "xtrain, xtest, ytrain, ytest = train_test_split(x, y, test_size=0.10, random_state=42)"
   ]
  },
  {
   "cell_type": "code",
   "execution_count": 12,
   "metadata": {},
   "outputs": [],
   "source": [
    "from keras.models import Sequential\n",
    "from keras.layers import Dense, LSTM\n",
    "model = Sequential()\n",
    "model.add(LSTM(128, return_sequences=True, input_shape= (xtrain.shape[1], 1)))\n",
    "model.add(LSTM(64, return_sequences=False))\n",
    "model.add(Dense(25))\n",
    "model.add(Dense(1))"
   ]
  },
  {
   "cell_type": "code",
   "execution_count": 16,
   "metadata": {},
   "outputs": [
    {
     "name": "stdout",
     "output_type": "stream",
     "text": [
      "Epoch 1/50\n",
      "4271/4271 [==============================] - 13s 3ms/step - loss: 4563001344.0000\n",
      "Epoch 2/50\n",
      "4271/4271 [==============================] - 12s 3ms/step - loss: 4591831040.0000\n",
      "Epoch 3/50\n",
      "4271/4271 [==============================] - 11s 3ms/step - loss: 4559045632.0000\n",
      "Epoch 4/50\n",
      "4271/4271 [==============================] - 10s 2ms/step - loss: 4614409728.0000\n",
      "Epoch 5/50\n",
      "4271/4271 [==============================] - 11s 3ms/step - loss: 4600797184.0000\n",
      "Epoch 6/50\n",
      "4271/4271 [==============================] - 10s 2ms/step - loss: 4563660288.0000\n",
      "Epoch 7/50\n",
      "4271/4271 [==============================] - 11s 3ms/step - loss: 4535621632.0000\n",
      "Epoch 8/50\n",
      "4271/4271 [==============================] - 10s 2ms/step - loss: 4581837312.0000\n",
      "Epoch 9/50\n",
      "4271/4271 [==============================] - 10s 2ms/step - loss: 4520636416.0000\n",
      "Epoch 10/50\n",
      "4271/4271 [==============================] - 11s 3ms/step - loss: 4531132416.0000\n",
      "Epoch 11/50\n",
      "4271/4271 [==============================] - 12s 3ms/step - loss: 4436947456.0000\n",
      "Epoch 12/50\n",
      "4271/4271 [==============================] - 10s 2ms/step - loss: 4594530816.0000\n",
      "Epoch 13/50\n",
      "4271/4271 [==============================] - 10s 2ms/step - loss: 4604324864.0000\n",
      "Epoch 14/50\n",
      "4271/4271 [==============================] - 10s 2ms/step - loss: 4491912704.0000\n",
      "Epoch 15/50\n",
      "4271/4271 [==============================] - 12s 3ms/step - loss: 4686561280.0000\n",
      "Epoch 16/50\n",
      "4271/4271 [==============================] - 10s 2ms/step - loss: 4560935936.0000\n",
      "Epoch 17/50\n",
      "4271/4271 [==============================] - 11s 2ms/step - loss: 4471785984.0000\n",
      "Epoch 18/50\n",
      "4271/4271 [==============================] - 10s 2ms/step - loss: 4545736192.0000\n",
      "Epoch 19/50\n",
      "4271/4271 [==============================] - 13s 3ms/step - loss: 4493383168.0000\n",
      "Epoch 20/50\n",
      "4271/4271 [==============================] - 13s 3ms/step - loss: 4530982912.0000\n",
      "Epoch 21/50\n",
      "4271/4271 [==============================] - 11s 3ms/step - loss: 4497582592.0000\n",
      "Epoch 22/50\n",
      "4271/4271 [==============================] - 13s 3ms/step - loss: 4586209280.0000\n",
      "Epoch 23/50\n",
      "4271/4271 [==============================] - 12s 3ms/step - loss: 4495833600.0000\n",
      "Epoch 24/50\n",
      "4271/4271 [==============================] - 12s 3ms/step - loss: 4476608000.0000\n",
      "Epoch 25/50\n",
      "4271/4271 [==============================] - 11s 3ms/step - loss: 4542747136.0000\n",
      "Epoch 26/50\n",
      "4271/4271 [==============================] - 12s 3ms/step - loss: 4522471936.0000\n",
      "Epoch 27/50\n",
      "4271/4271 [==============================] - 16s 4ms/step - loss: 4518340096.0000\n",
      "Epoch 28/50\n",
      "4271/4271 [==============================] - 18s 4ms/step - loss: 4466501632.0000\n",
      "Epoch 29/50\n",
      "4271/4271 [==============================] - 16s 4ms/step - loss: 4376307200.0000\n",
      "Epoch 30/50\n",
      "4271/4271 [==============================] - 13s 3ms/step - loss: 4443564032.0000\n",
      "Epoch 31/50\n",
      "4271/4271 [==============================] - 11s 3ms/step - loss: 4486111232.0000\n",
      "Epoch 32/50\n",
      "4271/4271 [==============================] - 11s 3ms/step - loss: 4490425344.0000\n",
      "Epoch 33/50\n",
      "4271/4271 [==============================] - 12s 3ms/step - loss: 4462166016.0000\n",
      "Epoch 34/50\n",
      "4271/4271 [==============================] - 11s 3ms/step - loss: 4504552960.0000\n",
      "Epoch 35/50\n",
      "4271/4271 [==============================] - 11s 3ms/step - loss: 4466230272.0000\n",
      "Epoch 36/50\n",
      "4271/4271 [==============================] - 11s 3ms/step - loss: 4473804288.0000\n",
      "Epoch 37/50\n",
      "4271/4271 [==============================] - 11s 3ms/step - loss: 4464060928.0000\n",
      "Epoch 38/50\n",
      "4271/4271 [==============================] - 12s 3ms/step - loss: 4497733632.0000\n",
      "Epoch 39/50\n",
      "4271/4271 [==============================] - 11s 3ms/step - loss: 4573475840.0000\n",
      "Epoch 40/50\n",
      "4271/4271 [==============================] - 11s 3ms/step - loss: 4488514560.0000\n",
      "Epoch 41/50\n",
      "4271/4271 [==============================] - 11s 3ms/step - loss: 4522323456.0000\n",
      "Epoch 42/50\n",
      "4271/4271 [==============================] - 13s 3ms/step - loss: 4495295488.0000\n",
      "Epoch 43/50\n",
      "4271/4271 [==============================] - 13s 3ms/step - loss: 4459714048.0000\n",
      "Epoch 44/50\n",
      "4271/4271 [==============================] - 11s 3ms/step - loss: 4445810688.0000\n",
      "Epoch 45/50\n",
      "4271/4271 [==============================] - 11s 2ms/step - loss: 4437632512.0000\n",
      "Epoch 46/50\n",
      "4271/4271 [==============================] - 11s 2ms/step - loss: 4495578112.0000\n",
      "Epoch 47/50\n",
      "4271/4271 [==============================] - 11s 3ms/step - loss: 4501263872.0000\n",
      "Epoch 48/50\n",
      "4271/4271 [==============================] - 11s 3ms/step - loss: 4446947328.0000\n",
      "Epoch 49/50\n",
      "4271/4271 [==============================] - 11s 3ms/step - loss: 4443643904.0000\n",
      "Epoch 50/50\n",
      "4271/4271 [==============================] - 12s 3ms/step - loss: 4439555584.0000\n"
     ]
    },
    {
     "data": {
      "text/plain": [
       "<keras.callbacks.History at 0x1f204d47730>"
      ]
     },
     "execution_count": 16,
     "metadata": {},
     "output_type": "execute_result"
    }
   ],
   "source": [
    "model.compile(optimizer='adam', loss='mean_squared_error')\n",
    "model.fit(xtrain, ytrain, batch_size=1, epochs=50)"
   ]
  },
  {
   "cell_type": "code",
   "execution_count": 14,
   "metadata": {},
   "outputs": [
    {
     "name": "stderr",
     "output_type": "stream",
     "text": [
      "WARNING:absl:Found untraced functions such as lstm_cell_2_layer_call_fn, lstm_cell_2_layer_call_and_return_conditional_losses, lstm_cell_3_layer_call_fn, lstm_cell_3_layer_call_and_return_conditional_losses while saving (showing 4 of 4). These functions will not be directly callable after loading.\n"
     ]
    },
    {
     "name": "stdout",
     "output_type": "stream",
     "text": [
      "INFO:tensorflow:Assets written to: predictor\\assets\n"
     ]
    },
    {
     "name": "stderr",
     "output_type": "stream",
     "text": [
      "INFO:tensorflow:Assets written to: predictor\\assets\n"
     ]
    }
   ],
   "source": [
    "saved_model = model.save(\"predictor\")"
   ]
  }
 ],
 "metadata": {
  "kernelspec": {
   "display_name": "Python 3.9.13 64-bit (microsoft store)",
   "language": "python",
   "name": "python3"
  },
  "language_info": {
   "codemirror_mode": {
    "name": "ipython",
    "version": 3
   },
   "file_extension": ".py",
   "mimetype": "text/x-python",
   "name": "python",
   "nbconvert_exporter": "python",
   "pygments_lexer": "ipython3",
   "version": "3.9.13"
  },
  "orig_nbformat": 4,
  "vscode": {
   "interpreter": {
    "hash": "fe002e6c70f91220cae80b8d65d673e1658f9aeab49859b340d51f9b4b64a253"
   }
  }
 },
 "nbformat": 4,
 "nbformat_minor": 2
}
